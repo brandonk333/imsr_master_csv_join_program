{
 "cells": [
  {
   "cell_type": "code",
   "execution_count": 2,
   "id": "b979f9c6",
   "metadata": {},
   "outputs": [
    {
     "name": "stderr",
     "output_type": "stream",
     "text": [
      "Writing output to CSV: 100%|█████████████████████████████████████████████████████████| 100/100 [00:00<00:00, 362.52%/s]\n"
     ]
    }
   ],
   "source": [
    "# Program to join two imsr csv datasets with the Date as the primary key\n",
    "import pandas as pd\n",
    "from tqdm import tqdm\n",
    "\n",
    "# Load the first CSV file into a Pandas dataframe\n",
    "df1 = pd.read_csv('./imsr_final_dashboard_data/combined_file_1.csv')\n",
    "\n",
    "# Load the second CSV file into a Pandas dataframe\n",
    "df2 = pd.read_csv('./imsr_final_dashboard_data/combined_file_2.csv')\n",
    "\n",
    "# Join the two dataframes based on the primary key of Date\n",
    "joined_df = pd.merge(df1, df2, on='Date')\n",
    "\n",
    "# Write the joined dataframe to a new CSV file with a progress bar\n",
    "with tqdm(total=100, desc='Writing output to CSV', unit='%', position=0) as pbar:\n",
    "    joined_df.to_csv('./imsr_final_dashboard_data/joined_spreadsheet.csv', index=False)\n",
    "    pbar.update(100)"
   ]
  },
  {
   "cell_type": "code",
   "execution_count": null,
   "id": "fe39f66e",
   "metadata": {},
   "outputs": [],
   "source": []
  }
 ],
 "metadata": {
  "kernelspec": {
   "display_name": "Python 3 (ipykernel)",
   "language": "python",
   "name": "python3"
  },
  "language_info": {
   "codemirror_mode": {
    "name": "ipython",
    "version": 3
   },
   "file_extension": ".py",
   "mimetype": "text/x-python",
   "name": "python",
   "nbconvert_exporter": "python",
   "pygments_lexer": "ipython3",
   "version": "3.9.13"
  }
 },
 "nbformat": 4,
 "nbformat_minor": 5
}
